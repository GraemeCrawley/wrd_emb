{
 "cells": [
  {
   "cell_type": "code",
   "execution_count": 2,
   "metadata": {},
   "outputs": [],
   "source": [
    "%load_ext autoreload\n",
    "%autoreload 2"
   ]
  },
  {
   "cell_type": "code",
   "execution_count": 47,
   "metadata": {},
   "outputs": [],
   "source": [
    "import numpy as np\n",
    "\n",
    "def word_embedding_layer(input_dim, output_dim, input_length):\n",
    "    W = np.random.uniform(size=(input_dim, output_dim))\n",
    "    return W\n",
    "\n",
    "def dense(units, input_dim):\n",
    "    W = np.random.uniform(size=(units, input_dim))\n",
    "    b = np.random.uniform(size=(units, 1))\n",
    "    return W, b\n",
    "\n",
    "def softmax(Z):\n",
    "    A = np.exp(Z)/np.sum(Z, axis=0)\n",
    "    return A\n",
    "\n",
    "def compute_cost(Y_pred, Y_true):\n",
    "    m = Y_true.shape[0]\n",
    "    return np.sum(-Y_true * np.log(Y_pred), axis=1)\n",
    "    \n",
    "def forward_pass(X, input_length, W_emb, W_dense, b_dense):\n",
    "    emb_out = np.take(W_emb, X, axis=0).reshape(W_emb.shape[1], input_length, -1)\n",
    "    print(emb_out.shape)\n",
    "    mean_out = np.mean(emb_out, axis=1)\n",
    "    print(mean_out.shape)\n",
    "    dense_out = np.dot(W_dense, mean_out) + b_dense\n",
    "    return dense_out"
   ]
  },
  {
   "cell_type": "code",
   "execution_count": 48,
   "metadata": {},
   "outputs": [
    {
     "name": "stdout",
     "output_type": "stream",
     "text": [
      "(3, 4, 2)\n",
      "(3, 2)\n",
      "[[1.32780701 1.41531961]\n",
      " [1.90359688 2.20906393]\n",
      " [0.94585148 1.05739546]\n",
      " [0.95095829 0.98665731]\n",
      " [1.05354993 1.17997117]\n",
      " [0.40880593 0.53356346]\n",
      " [1.18916058 1.38084754]\n",
      " [1.02523196 1.16777854]\n",
      " [1.00080644 1.08279461]\n",
      " [0.74102137 0.76856168]]\n"
     ]
    }
   ],
   "source": [
    "X = np.array([[1, 3, 5, 7], [0, 1, 2, 3]])\n",
    "W_emb = word_embedding_layer(10, 3, 4)\n",
    "W_dense, b_dense = dense(10, 3)\n",
    "print(forward_pass(X, 4, W_emb, W_dense, b_dense))"
   ]
  },
  {
   "cell_type": "markdown",
   "metadata": {},
   "source": [
    "input: (input_length, m) (4, 2)\n",
    "w_emb: (vocab_size, embedding_size) (10, 3, 4 )\n",
    "mean: (1, embedding_size)\n"
   ]
  },
  {
   "cell_type": "code",
   "execution_count": 30,
   "metadata": {},
   "outputs": [],
   "source": [
    "Y_true = np.eye(5)[np.random.choice(5, 10)]\n",
    "Y_hat = np.random.rand(10, 5)\n",
    "Y_hat /= np.sum(Y_hat, axis=0)"
   ]
  },
  {
   "cell_type": "code",
   "execution_count": 37,
   "metadata": {},
   "outputs": [
    {
     "data": {
      "text/plain": [
       "array([3.39684723, 4.07534568, 2.41349926, 2.5633011 , 2.00511614,\n",
       "       2.18492226, 1.96788019, 2.22888813, 2.54548637, 2.24961894])"
      ]
     },
     "execution_count": 37,
     "metadata": {},
     "output_type": "execute_result"
    }
   ],
   "source": [
    "cross_entropy(Y_hat, Y_true)"
   ]
  },
  {
   "cell_type": "code",
   "execution_count": 16,
   "metadata": {},
   "outputs": [],
   "source": [
    "t = np.take(W, [[1, 3, 5, 7], [0, 1, 2, 3]], axis=0)"
   ]
  },
  {
   "cell_type": "code",
   "execution_count": 35,
   "metadata": {},
   "outputs": [
    {
     "data": {
      "text/plain": [
       "(10, 5)"
      ]
     },
     "execution_count": 35,
     "metadata": {},
     "output_type": "execute_result"
    }
   ],
   "source": [
    "(-Y_true * np.log(Y_hat)).shape"
   ]
  },
  {
   "cell_type": "code",
   "execution_count": 19,
   "metadata": {},
   "outputs": [
    {
     "data": {
      "text/plain": [
       "(2, 3)"
      ]
     },
     "execution_count": 19,
     "metadata": {},
     "output_type": "execute_result"
    }
   ],
   "source": [
    "np.mean(t, axis=1).shape"
   ]
  },
  {
   "cell_type": "code",
   "execution_count": 38,
   "metadata": {},
   "outputs": [],
   "source": [
    "a = np.random.rand(10, 5)"
   ]
  },
  {
   "cell_type": "code",
   "execution_count": 40,
   "metadata": {},
   "outputs": [
    {
     "data": {
      "text/plain": [
       "array([[0.41495073, 0.19301629, 0.43419158, 0.96431508, 0.93404785],\n",
       "       [0.06567073, 0.71629274, 0.4999399 , 0.58706599, 0.83155123],\n",
       "       [0.96509983, 0.65287305, 0.09809129, 0.2517119 , 0.83942163],\n",
       "       [0.21150526, 0.74722498, 0.53933994, 0.26333581, 0.83529272],\n",
       "       [0.39386639, 0.88828519, 0.27778779, 0.47642352, 0.0420298 ]])"
      ]
     },
     "execution_count": 40,
     "metadata": {},
     "output_type": "execute_result"
    }
   ],
   "source": [
    "a[::2]"
   ]
  },
  {
   "cell_type": "raw",
   "metadata": {},
   "source": []
  }
 ],
 "metadata": {
  "kernelspec": {
   "display_name": "Python 3",
   "language": "python",
   "name": "python3"
  },
  "language_info": {
   "codemirror_mode": {
    "name": "ipython",
    "version": 3
   },
   "file_extension": ".py",
   "mimetype": "text/x-python",
   "name": "python",
   "nbconvert_exporter": "python",
   "pygments_lexer": "ipython3",
   "version": "3.6.5"
  }
 },
 "nbformat": 4,
 "nbformat_minor": 2
}
