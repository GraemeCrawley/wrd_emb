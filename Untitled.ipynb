{
 "cells": [
  {
   "cell_type": "code",
   "execution_count": 1,
   "metadata": {},
   "outputs": [],
   "source": [
    "%load_ext autoreload\n",
    "%autoreload 2\n",
    "import numpy as np"
   ]
  },
  {
   "cell_type": "markdown",
   "metadata": {},
   "source": [
    "## Initialization"
   ]
  },
  {
   "cell_type": "code",
   "execution_count": 2,
   "metadata": {},
   "outputs": [],
   "source": [
    "def initialize_wrd_emb(vocab_size, emb_size):\n",
    "    WRD_EMB = np.random.uniform(size=(vocab_size, emb_size))\n",
    "    return WRD_EMB\n",
    "\n",
    "def initialize_dense(input_size, output_size):\n",
    "    W = np.random.uniform(size=(output_size, input_size))\n",
    "    b = np.random.uniform(size=(output_size, 1))\n",
    "    return W, b\n",
    "\n",
    "def initialize_parameters(vocab, emb_size):\n",
    "    WRD_EMB = initialize_wrd_emb(vocab_size, emb_size)\n",
    "    W, b = initialize_dense(emb_size, vocab_size)\n",
    "    \n",
    "    parameters = {}\n",
    "    parameters['WRD_EMB'] = WRD_EMB\n",
    "    parameters['W'] = W\n",
    "    parameters['b'] = b\n",
    "    \n",
    "    return parameters"
   ]
  },
  {
   "cell_type": "markdown",
   "metadata": {},
   "source": [
    "## Forward Propagation"
   ]
  },
  {
   "cell_type": "code",
   "execution_count": 3,
   "metadata": {},
   "outputs": [],
   "source": [
    "def ind_to_word_vecs(inds, parameters):\n",
    "    \"\"\"\n",
    "    inds -- shape: (CBOW_N, number of examples)\n",
    "    \"\"\"\n",
    "    WRD_EMB = parameters['WRD_EMB']\n",
    "    word_vecs = np.take(WRD_EMB, inds, axis=0)\n",
    "    word_vecs = word_vecs.reshape(WRD_EMB.shape[1], inds.shape[0], -1)\n",
    "    \n",
    "    assert(word_vecs.shape == (WRD_EMB.shape[1], inds.shape[0], inds.shape[1]))\n",
    "    \n",
    "    return word_vecs\n",
    "\n",
    "def average(word_vecs):\n",
    "    word_vecs_avg = np.mean(word_vecs, axis=1)\n",
    "    word_vecs_avg = word_vecs_avg.reshape(word_vecs.shape[0], -1)\n",
    "    \n",
    "    assert(word_vecs_avg.shape == (word_vecs.shape[0], word_vecs.shape[2]))\n",
    "    \n",
    "    return word_vecs_avg\n",
    "\n",
    "def linear_dense(word_vecs_avg, parameters):\n",
    "    W, b = parameters['W'], parameters['b']\n",
    "    Z = np.dot(W, word_vecs_avg) + B\n",
    "    \n",
    "    assert(Z.shape == (W.shape[0], word_vecs_avg.shape[1]))\n",
    "    \n",
    "    return W, b, Z\n",
    "\n",
    "def softmax(Z):\n",
    "    softmax_out = np.divide(np.exp(Z), np.sum(np.exp(Z), axis=0))\n",
    "    \n",
    "    assert(softmax_out.shape == Z.shape)\n",
    "    \n",
    "    return softmax_out\n",
    "\n",
    "def forward_propagation(inds, parameters):\n",
    "    word_vecs = ind_to_word_vecs(inds, parameters)\n",
    "    word_vecs_avg = average(word_vecs)\n",
    "    W, b, Z = linear_dense(word_vecs_avg, parameters)\n",
    "    softmax_out = softmax(Z)\n",
    "    \n",
    "    caches = {}\n",
    "    caches['word_vecs'] = word_vecs\n",
    "    caches['W'] = W\n",
    "    caches['b'] = b\n",
    "    \n",
    "    return softmax_out"
   ]
  },
  {
   "cell_type": "markdown",
   "metadata": {},
   "source": [
    "## Cost Function"
   ]
  },
  {
   "cell_type": "code",
   "execution_count": null,
   "metadata": {},
   "outputs": [],
   "source": [
    "def cross_entropy(softmax_out, Y):\n",
    "    m = softmax_out.shapep[1]\n",
    "    cost = -(1 / m) * np.sum(Y * np.log(softmax_out), axis=1)\n",
    "    return cost"
   ]
  },
  {
   "cell_type": "markdown",
   "metadata": {},
   "source": [
    "## Backward Propagation"
   ]
  },
  {
   "cell_type": "code",
   "execution_count": 25,
   "metadata": {},
   "outputs": [],
   "source": [
    "import numpy as np\n",
    "\n",
    "def word_embedding_layer(input_dim, output_dim, input_length):\n",
    "    W = np.random.uniform(size=(input_dim, output_dim))\n",
    "    return W\n",
    "\n",
    "def dense(units, input_dim):\n",
    "    W = np.random.uniform(size=(units, input_dim))\n",
    "    b = np.random.uniform(size=(units, 1))\n",
    "    return W, b\n",
    "\n",
    "def softmax(Z):\n",
    "    A = np.exp(Z)/np.sum(Z, axis=0)\n",
    "    return A\n",
    "\n",
    "def compute_cost(Y_pred, Y_true):\n",
    "    m = Y_true.shape[0]\n",
    "    return np.sum(-Y_true * np.log(Y_pred), axis=1)\n",
    "    \n",
    "def forward_pass(X, input_length, W_emb, W_dense, b_dense):\n",
    "    emb_out = np.take(W_emb, X, axis=0).reshape(W_emb.shape[1], input_length, -1)\n",
    "    print(emb_out.shape)\n",
    "    mean_out = np.mean(emb_out, axis=1)\n",
    "    print(mean_out.shape)\n",
    "    dense_out = np.dot(W_dense, mean_out) + b_dense\n",
    "    return dense_out\n",
    "\n",
    "def compute_cost(dense_out, Y):\n",
    "    m = Y.shape[1]\n",
    "    cost = -(1/m) * np.sum(np.sum(Y * np.log(dense_out), axis=1), axis=0)\n",
    "    assert(cost.shape == ())\n",
    "    return cost"
   ]
  },
  {
   "cell_type": "code",
   "execution_count": null,
   "metadata": {},
   "outputs": [],
   "source": [
    "def softmax_backward(softmax_out, Y):\n",
    "    dZ = softmax_out - Y\n",
    "    return dZ # vocab_size x m\n",
    "\n",
    "def dense_backward(dZ, W_dense, b_dense):\n",
    "    m = W_dense.shape[1]\n",
    "    dW = (1 / m) * dZ * W_dense.T  # 1 x (vocab_size x m) x (m x emb_size)\n",
    "    db = (1 / m) * np.sum(dZ, axis=1)\n",
    "    dA = "
   ]
  },
  {
   "cell_type": "markdown",
   "metadata": {},
   "source": [
    "### Toy data\n",
    "Sentence: I(0) would(1) like(2) to(3) get(4) a(5) better(6) job(7).\n",
    "vocab_size = 8\n",
    "[0, 2] [1]\n",
    "[1, 3] [2]\n",
    "[2, 4] [3]\n",
    "[3, 5] [4]\n",
    "[4, 6] [5]\n",
    "[5, 7] [6]"
   ]
  },
  {
   "cell_type": "code",
   "execution_count": 27,
   "metadata": {},
   "outputs": [
    {
     "name": "stdout",
     "output_type": "stream",
     "text": [
      "(15, 2, 6)\n",
      "(15, 6)\n",
      "-1.044234356730176\n"
     ]
    }
   ],
   "source": [
    "input_len = 2\n",
    "vocab_size = 8\n",
    "m = 6\n",
    "emb_size = 15\n",
    "X = np.array([[0, 1, 2, 3, 4, 5],\n",
    "              [2, 3, 4, 5, 6, 7]]) # 2 x 6\n",
    "Y = np.array([1, 2, 3, 4, 5, 6]) # 1 x 6\n",
    "Y_one_hot = np.zeros((vocab_size, m))  # 8 x 6\n",
    "Y_one_hot[Y.flatten(), np.arange(6)] = 1\n",
    "\n",
    "W_emb = word_embedding_layer(vocab_size, emb_size, 2)\n",
    "W_dense, b_dense = dense(vocab_size, emb_size)\n",
    "dense_out = forward_pass(X, input_len, W_emb, W_dense, b_dense) # 8 x 6\n",
    "softmax_out = softmax(dense_out) # 8 x 6\n",
    "cost = compute_cost(softmax_out, Y_one_hot)\n",
    "print(cost)"
   ]
  },
  {
   "cell_type": "code",
   "execution_count": 18,
   "metadata": {},
   "outputs": [
    {
     "data": {
      "text/plain": [
       "(8, 15)"
      ]
     },
     "execution_count": 18,
     "metadata": {},
     "output_type": "execute_result"
    }
   ],
   "source": [
    "W_dense.shape"
   ]
  },
  {
   "cell_type": "markdown",
   "metadata": {},
   "source": [
    "input: (input_length, m) (4, 2)\n",
    "w_emb: (vocab_size, embedding_size) (10, 3, 4 )\n",
    "mean: (1, embedding_size)\n"
   ]
  },
  {
   "cell_type": "code",
   "execution_count": 30,
   "metadata": {},
   "outputs": [],
   "source": [
    "Y_true = np.eye(5)[np.random.choice(5, 10)]\n",
    "Y_hat = np.random.rand(10, 5)\n",
    "Y_hat /= np.sum(Y_hat, axis=0)"
   ]
  },
  {
   "cell_type": "code",
   "execution_count": 37,
   "metadata": {},
   "outputs": [
    {
     "data": {
      "text/plain": [
       "array([3.39684723, 4.07534568, 2.41349926, 2.5633011 , 2.00511614,\n",
       "       2.18492226, 1.96788019, 2.22888813, 2.54548637, 2.24961894])"
      ]
     },
     "execution_count": 37,
     "metadata": {},
     "output_type": "execute_result"
    }
   ],
   "source": [
    "cross_entropy(Y_hat, Y_true)"
   ]
  },
  {
   "cell_type": "code",
   "execution_count": 16,
   "metadata": {},
   "outputs": [],
   "source": [
    "t = np.take(W, [[1, 3, 5, 7], [0, 1, 2, 3]], axis=0)"
   ]
  },
  {
   "cell_type": "code",
   "execution_count": 35,
   "metadata": {},
   "outputs": [
    {
     "data": {
      "text/plain": [
       "(10, 5)"
      ]
     },
     "execution_count": 35,
     "metadata": {},
     "output_type": "execute_result"
    }
   ],
   "source": [
    "(-Y_true * np.log(Y_hat)).shape"
   ]
  },
  {
   "cell_type": "code",
   "execution_count": 19,
   "metadata": {},
   "outputs": [
    {
     "data": {
      "text/plain": [
       "(2, 3)"
      ]
     },
     "execution_count": 19,
     "metadata": {},
     "output_type": "execute_result"
    }
   ],
   "source": [
    "np.mean(t, axis=1).shape"
   ]
  },
  {
   "cell_type": "code",
   "execution_count": 38,
   "metadata": {},
   "outputs": [],
   "source": [
    "a = np.random.rand(10, 5)"
   ]
  },
  {
   "cell_type": "code",
   "execution_count": 40,
   "metadata": {},
   "outputs": [
    {
     "data": {
      "text/plain": [
       "array([[0.41495073, 0.19301629, 0.43419158, 0.96431508, 0.93404785],\n",
       "       [0.06567073, 0.71629274, 0.4999399 , 0.58706599, 0.83155123],\n",
       "       [0.96509983, 0.65287305, 0.09809129, 0.2517119 , 0.83942163],\n",
       "       [0.21150526, 0.74722498, 0.53933994, 0.26333581, 0.83529272],\n",
       "       [0.39386639, 0.88828519, 0.27778779, 0.47642352, 0.0420298 ]])"
      ]
     },
     "execution_count": 40,
     "metadata": {},
     "output_type": "execute_result"
    }
   ],
   "source": [
    "a[::2]"
   ]
  },
  {
   "cell_type": "raw",
   "metadata": {},
   "source": []
  },
  {
   "cell_type": "code",
   "execution_count": 5,
   "metadata": {},
   "outputs": [],
   "source": [
    "a = np.random.rand(10, 5)"
   ]
  },
  {
   "cell_type": "code",
   "execution_count": 6,
   "metadata": {},
   "outputs": [
    {
     "data": {
      "text/plain": [
       "(10, 5)"
      ]
     },
     "execution_count": 6,
     "metadata": {},
     "output_type": "execute_result"
    }
   ],
   "source": [
    "a.shape"
   ]
  },
  {
   "cell_type": "code",
   "execution_count": 8,
   "metadata": {},
   "outputs": [
    {
     "data": {
      "text/plain": [
       "(10,)"
      ]
     },
     "execution_count": 8,
     "metadata": {},
     "output_type": "execute_result"
    }
   ],
   "source": [
    "np.sum(a, axis=1).shape"
   ]
  },
  {
   "cell_type": "code",
   "execution_count": null,
   "metadata": {},
   "outputs": [],
   "source": []
  }
 ],
 "metadata": {
  "kernelspec": {
   "display_name": "Python 3",
   "language": "python",
   "name": "python3"
  },
  "language_info": {
   "codemirror_mode": {
    "name": "ipython",
    "version": 3
   },
   "file_extension": ".py",
   "mimetype": "text/x-python",
   "name": "python",
   "nbconvert_exporter": "python",
   "pygments_lexer": "ipython3",
   "version": "3.6.5"
  }
 },
 "nbformat": 4,
 "nbformat_minor": 2
}
